{
 "cells": [
  {
   "cell_type": "code",
   "execution_count": 1,
   "id": "acaa02d0-5ac5-437c-9d20-efbe88a0b037",
   "metadata": {},
   "outputs": [],
   "source": [
    "import pandas as pd\n",
    "import numpy as np\n",
    "import os\n",
    "import matplotlib.pyplot as plt\n",
    "import seaborn as sns\n",
    "import scipy\n"
   ]
  },
  {
   "cell_type": "code",
   "execution_count": 2,
   "id": "16670772-da58-4b98-8b5b-554bfb39d3ae",
   "metadata": {},
   "outputs": [],
   "source": [
    "path = r'Desktop/CF/Achievement 4/Instacart Basket Analysis/02 Data/Original Data/customers.csv'"
   ]
  },
  {
   "cell_type": "code",
   "execution_count": 40,
   "id": "a1efc352-8f19-4b97-b077-0ba6055b8629",
   "metadata": {},
   "outputs": [],
   "source": [
    "path_orig = r'Desktop/CF/Achievement 4/Instacart Basket Analysis'"
   ]
  },
  {
   "cell_type": "code",
   "execution_count": 4,
   "id": "7747eb8e-cf36-41be-a79c-959110bb60e5",
   "metadata": {},
   "outputs": [],
   "source": [
    "df_cust = pd.read_csv(os.path.join(path), index_col = False) "
   ]
  },
  {
   "cell_type": "markdown",
   "id": "190201ca-92cd-4ec9-82b6-0eea150c692d",
   "metadata": {},
   "source": [
    "# Data Wrangling"
   ]
  },
  {
   "cell_type": "code",
   "execution_count": 5,
   "id": "f7589e34-e63c-4cf3-919f-ecd30a730368",
   "metadata": {},
   "outputs": [
    {
     "data": {
      "text/html": [
       "<div>\n",
       "<style scoped>\n",
       "    .dataframe tbody tr th:only-of-type {\n",
       "        vertical-align: middle;\n",
       "    }\n",
       "\n",
       "    .dataframe tbody tr th {\n",
       "        vertical-align: top;\n",
       "    }\n",
       "\n",
       "    .dataframe thead th {\n",
       "        text-align: right;\n",
       "    }\n",
       "</style>\n",
       "<table border=\"1\" class=\"dataframe\">\n",
       "  <thead>\n",
       "    <tr style=\"text-align: right;\">\n",
       "      <th></th>\n",
       "      <th>user_id</th>\n",
       "      <th>Age</th>\n",
       "      <th>n_dependants</th>\n",
       "      <th>income</th>\n",
       "    </tr>\n",
       "  </thead>\n",
       "  <tbody>\n",
       "    <tr>\n",
       "      <th>count</th>\n",
       "      <td>206209.000000</td>\n",
       "      <td>206209.000000</td>\n",
       "      <td>206209.000000</td>\n",
       "      <td>206209.000000</td>\n",
       "    </tr>\n",
       "    <tr>\n",
       "      <th>mean</th>\n",
       "      <td>103105.000000</td>\n",
       "      <td>49.501646</td>\n",
       "      <td>1.499823</td>\n",
       "      <td>94632.852548</td>\n",
       "    </tr>\n",
       "    <tr>\n",
       "      <th>std</th>\n",
       "      <td>59527.555167</td>\n",
       "      <td>18.480962</td>\n",
       "      <td>1.118433</td>\n",
       "      <td>42473.786988</td>\n",
       "    </tr>\n",
       "    <tr>\n",
       "      <th>min</th>\n",
       "      <td>1.000000</td>\n",
       "      <td>18.000000</td>\n",
       "      <td>0.000000</td>\n",
       "      <td>25903.000000</td>\n",
       "    </tr>\n",
       "    <tr>\n",
       "      <th>25%</th>\n",
       "      <td>51553.000000</td>\n",
       "      <td>33.000000</td>\n",
       "      <td>0.000000</td>\n",
       "      <td>59874.000000</td>\n",
       "    </tr>\n",
       "    <tr>\n",
       "      <th>50%</th>\n",
       "      <td>103105.000000</td>\n",
       "      <td>49.000000</td>\n",
       "      <td>1.000000</td>\n",
       "      <td>93547.000000</td>\n",
       "    </tr>\n",
       "    <tr>\n",
       "      <th>75%</th>\n",
       "      <td>154657.000000</td>\n",
       "      <td>66.000000</td>\n",
       "      <td>3.000000</td>\n",
       "      <td>124244.000000</td>\n",
       "    </tr>\n",
       "    <tr>\n",
       "      <th>max</th>\n",
       "      <td>206209.000000</td>\n",
       "      <td>81.000000</td>\n",
       "      <td>3.000000</td>\n",
       "      <td>593901.000000</td>\n",
       "    </tr>\n",
       "  </tbody>\n",
       "</table>\n",
       "</div>"
      ],
      "text/plain": [
       "             user_id            Age   n_dependants         income\n",
       "count  206209.000000  206209.000000  206209.000000  206209.000000\n",
       "mean   103105.000000      49.501646       1.499823   94632.852548\n",
       "std     59527.555167      18.480962       1.118433   42473.786988\n",
       "min         1.000000      18.000000       0.000000   25903.000000\n",
       "25%     51553.000000      33.000000       0.000000   59874.000000\n",
       "50%    103105.000000      49.000000       1.000000   93547.000000\n",
       "75%    154657.000000      66.000000       3.000000  124244.000000\n",
       "max    206209.000000      81.000000       3.000000  593901.000000"
      ]
     },
     "execution_count": 5,
     "metadata": {},
     "output_type": "execute_result"
    }
   ],
   "source": [
    "df_cust.describe()"
   ]
  },
  {
   "cell_type": "code",
   "execution_count": 7,
   "id": "e3d2ec44-feb7-420d-8831-53f386cab69d",
   "metadata": {},
   "outputs": [
    {
     "data": {
      "text/plain": [
       "Index(['user_id', 'First Name', 'Surnam', 'Gender', 'STATE', 'Age',\n",
       "       'date_joined', 'n_dependants', 'fam_status', 'income'],\n",
       "      dtype='object')"
      ]
     },
     "execution_count": 7,
     "metadata": {},
     "output_type": "execute_result"
    }
   ],
   "source": [
    "df_cust.columns"
   ]
  },
  {
   "cell_type": "code",
   "execution_count": 18,
   "id": "cca5447f-6822-4bb7-a8f8-b6f7ee7b182c",
   "metadata": {},
   "outputs": [
    {
     "name": "stdout",
     "output_type": "stream",
     "text": [
      "<class 'pandas.core.frame.DataFrame'>\n",
      "RangeIndex: 206209 entries, 0 to 206208\n",
      "Data columns (total 10 columns):\n",
      " #   Column        Non-Null Count   Dtype \n",
      "---  ------        --------------   ----- \n",
      " 0   user_id       206209 non-null  int64 \n",
      " 1   First Name    194950 non-null  object\n",
      " 2   Surnam        206209 non-null  object\n",
      " 3   Gender        206209 non-null  object\n",
      " 4   STATE         206209 non-null  object\n",
      " 5   Age           206209 non-null  int64 \n",
      " 6   date_joined   206209 non-null  object\n",
      " 7   n_dependants  206209 non-null  int64 \n",
      " 8   fam_status    206209 non-null  object\n",
      " 9   income        206209 non-null  int64 \n",
      "dtypes: int64(4), object(6)\n",
      "memory usage: 15.7+ MB\n"
     ]
    }
   ],
   "source": [
    "df_cust.info()"
   ]
  },
  {
   "cell_type": "code",
   "execution_count": 19,
   "id": "9d94b0e3-7f0c-4e2d-82cc-d89a012d8c0b",
   "metadata": {},
   "outputs": [
    {
     "name": "stdout",
     "output_type": "stream",
     "text": [
      "First Name\n"
     ]
    }
   ],
   "source": [
    "for col in df_cust.columns.tolist(): \n",
    "    weird = (df_cust[[col]].map(type) != df_cust[[col]].iloc[0].apply(type)).any(axis = 1) \n",
    "    if len(df_cust[weird]) > 0:\n",
    "        print (col)"
   ]
  },
  {
   "cell_type": "code",
   "execution_count": 21,
   "id": "32d17e0f-3857-49f5-a29e-db363eb6d68c",
   "metadata": {},
   "outputs": [
    {
     "data": {
      "text/plain": [
       "dtype('O')"
      ]
     },
     "execution_count": 21,
     "metadata": {},
     "output_type": "execute_result"
    }
   ],
   "source": [
    "df_cust['First Name'].dtype "
   ]
  },
  {
   "cell_type": "code",
   "execution_count": 22,
   "id": "11ecde0f-3c44-4a38-9f78-e383177ed6f4",
   "metadata": {},
   "outputs": [],
   "source": [
    "# After careful analysis I see that Will need to rename some columns. the mixed values of First Name are \n",
    "# the null values that I will take care of in my consistency check."
   ]
  },
  {
   "cell_type": "code",
   "execution_count": 24,
   "id": "22bd5dc3-7d8d-45e9-90de-a1a5f7e0bde3",
   "metadata": {},
   "outputs": [],
   "source": [
    "df_cust.rename(columns = {'Surnam' : 'Last Name'}, inplace = True )"
   ]
  },
  {
   "cell_type": "code",
   "execution_count": 25,
   "id": "fe0d955a-fba5-40b9-b021-851842fd4ff2",
   "metadata": {},
   "outputs": [],
   "source": [
    "df_cust.rename(columns = {'fam_status' : 'Marital_Status'}, inplace = True )"
   ]
  },
  {
   "cell_type": "code",
   "execution_count": 27,
   "id": "0859141a-cceb-4b5d-ac00-930d07fd1d40",
   "metadata": {},
   "outputs": [],
   "source": [
    "df_cust.rename(columns = {'n_dependants' : 'Dependants'}, inplace = True )"
   ]
  },
  {
   "cell_type": "code",
   "execution_count": 29,
   "id": "e1474d54-7fff-4788-a106-032365bfe222",
   "metadata": {},
   "outputs": [],
   "source": [
    "df_cust.rename(columns = {'STATE' : 'State'}, inplace = True )"
   ]
  },
  {
   "cell_type": "code",
   "execution_count": 30,
   "id": "972beb97-4aaf-4deb-b48e-dae16636b02d",
   "metadata": {},
   "outputs": [
    {
     "data": {
      "text/plain": [
       "Index(['user_id', 'First Name', 'Last Name', 'Gender', 'State', 'Age',\n",
       "       'date_joined', 'Dependants', 'Marital_Status', 'income'],\n",
       "      dtype='object')"
      ]
     },
     "execution_count": 30,
     "metadata": {},
     "output_type": "execute_result"
    }
   ],
   "source": [
    "df_cust.columns"
   ]
  },
  {
   "cell_type": "markdown",
   "id": "e900e6a6-3223-4f0c-b660-5447358dd3c8",
   "metadata": {},
   "source": [
    "# Data Consistency"
   ]
  },
  {
   "cell_type": "code",
   "execution_count": 31,
   "id": "c68b8b10-6fae-445d-8226-2832ac12673e",
   "metadata": {},
   "outputs": [
    {
     "data": {
      "text/plain": [
       "user_id               0\n",
       "First Name        11259\n",
       "Last Name             0\n",
       "Gender                0\n",
       "State                 0\n",
       "Age                   0\n",
       "date_joined           0\n",
       "Dependants            0\n",
       "Marital_Status        0\n",
       "income                0\n",
       "dtype: int64"
      ]
     },
     "execution_count": 31,
     "metadata": {},
     "output_type": "execute_result"
    }
   ],
   "source": [
    "df_cust.isnull().sum()"
   ]
  },
  {
   "cell_type": "code",
   "execution_count": null,
   "id": "939437d8-1207-47d7-bfd5-558e8a0a6d74",
   "metadata": {},
   "outputs": [],
   "source": [
    "# So after doing some research on the null Values I decided to just change the name to unknown and change the data type to string. \n",
    "# If I were to drop the null value we would be losing 11,000 rows of potential Instacart loyal customers, So I decided against it."
   ]
  },
  {
   "cell_type": "code",
   "execution_count": 33,
   "id": "e8a78037-46cf-48a8-8297-31d9b4f330b7",
   "metadata": {},
   "outputs": [],
   "source": [
    "df_cust['First Name'].fillna('Unknown', inplace=True)"
   ]
  },
  {
   "cell_type": "code",
   "execution_count": 34,
   "id": "629edc6b-296c-40a8-8ec1-661601996136",
   "metadata": {},
   "outputs": [
    {
     "data": {
      "text/plain": [
       "user_id           0\n",
       "First Name        0\n",
       "Last Name         0\n",
       "Gender            0\n",
       "State             0\n",
       "Age               0\n",
       "date_joined       0\n",
       "Dependants        0\n",
       "Marital_Status    0\n",
       "income            0\n",
       "dtype: int64"
      ]
     },
     "execution_count": 34,
     "metadata": {},
     "output_type": "execute_result"
    }
   ],
   "source": [
    "df_cust.isnull().sum()"
   ]
  },
  {
   "cell_type": "code",
   "execution_count": 35,
   "id": "03790f0f-5679-4a4f-88b0-26180591c7c6",
   "metadata": {},
   "outputs": [],
   "source": [
    "for col in df_cust.columns.tolist(): \n",
    "    weird = (df_cust[[col]].map(type) != df_cust[[col]].iloc[0].apply(type)).any(axis = 1) \n",
    "    if len(df_cust[weird]) > 0:\n",
    "        print (col)"
   ]
  },
  {
   "cell_type": "code",
   "execution_count": 36,
   "id": "c7df4d84-c695-43e8-9086-119972eca5c4",
   "metadata": {},
   "outputs": [],
   "source": [
    "# Now there are no mixed values and no Null values"
   ]
  },
  {
   "cell_type": "code",
   "execution_count": 37,
   "id": "10a952f8-0158-4937-9ceb-233845517296",
   "metadata": {},
   "outputs": [],
   "source": [
    "df_dups = df_cust[df_cust.duplicated()]"
   ]
  },
  {
   "cell_type": "code",
   "execution_count": 38,
   "id": "b646feaf-ae3c-4f5e-87ef-e2a3ae5eb9d8",
   "metadata": {},
   "outputs": [],
   "source": [
    "# no Duplicates"
   ]
  },
  {
   "cell_type": "code",
   "execution_count": 39,
   "id": "7f108d97-9ce3-40b9-bbae-29d7f734c329",
   "metadata": {},
   "outputs": [
    {
     "name": "stdout",
     "output_type": "stream",
     "text": [
      "<class 'pandas.core.frame.DataFrame'>\n",
      "RangeIndex: 206209 entries, 0 to 206208\n",
      "Data columns (total 10 columns):\n",
      " #   Column          Non-Null Count   Dtype \n",
      "---  ------          --------------   ----- \n",
      " 0   user_id         206209 non-null  int64 \n",
      " 1   First Name      206209 non-null  object\n",
      " 2   Last Name       206209 non-null  object\n",
      " 3   Gender          206209 non-null  object\n",
      " 4   State           206209 non-null  object\n",
      " 5   Age             206209 non-null  int64 \n",
      " 6   date_joined     206209 non-null  object\n",
      " 7   Dependants      206209 non-null  int64 \n",
      " 8   Marital_Status  206209 non-null  object\n",
      " 9   income          206209 non-null  int64 \n",
      "dtypes: int64(4), object(6)\n",
      "memory usage: 15.7+ MB\n"
     ]
    }
   ],
   "source": [
    "df_cust.info()"
   ]
  },
  {
   "cell_type": "code",
   "execution_count": 41,
   "id": "589a3368-54fb-48e1-b375-73d10d36a228",
   "metadata": {},
   "outputs": [],
   "source": [
    "df_cust.to_pickle(os.path.join(path_orig, '02 Data','Prepared Data', 'Customer_clean.pkl'))"
   ]
  },
  {
   "cell_type": "code",
   "execution_count": null,
   "id": "fe11ae6d-1d0b-4173-a937-47c8e673274d",
   "metadata": {},
   "outputs": [],
   "source": []
  }
 ],
 "metadata": {
  "kernelspec": {
   "display_name": "Python 3 (ipykernel)",
   "language": "python",
   "name": "python3"
  },
  "language_info": {
   "codemirror_mode": {
    "name": "ipython",
    "version": 3
   },
   "file_extension": ".py",
   "mimetype": "text/x-python",
   "name": "python",
   "nbconvert_exporter": "python",
   "pygments_lexer": "ipython3",
   "version": "3.11.7"
  }
 },
 "nbformat": 4,
 "nbformat_minor": 5
}
