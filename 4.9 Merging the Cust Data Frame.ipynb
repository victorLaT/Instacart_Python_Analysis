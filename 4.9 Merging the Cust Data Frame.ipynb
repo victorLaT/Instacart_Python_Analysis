{
 "cells": [
  {
   "cell_type": "markdown",
   "id": "3e471941-111f-4ffc-9271-0025cf8a0cf8",
   "metadata": {},
   "source": [
    "# Merging the Cust Data frame"
   ]
  },
  {
   "cell_type": "code",
   "execution_count": 1,
   "id": "f57fc853-4e6e-4d2a-8406-280792ca4e4b",
   "metadata": {},
   "outputs": [],
   "source": [
    "import pandas as pd\n",
    "import numpy as np\n",
    "import os\n",
    "import matplotlib.pyplot as plt\n",
    "import seaborn as sns\n",
    "import scipy\n"
   ]
  },
  {
   "cell_type": "code",
   "execution_count": 14,
   "id": "fff3952c-cddb-4aaf-a6f5-686ed64cf0e0",
   "metadata": {},
   "outputs": [],
   "source": [
    "pathD = r'Desktop/CF/Achievement 4/Instacart Basket Analysis/02 Data/Prepared Data/df_4_8.pkl'\n",
    "pathC = r'Desktop/CF/Achievement 4/Instacart Basket Analysis/02 Data/Prepared Data/Customer_clean.pkl'\n",
    "path_orig = r'Desktop/CF/Achievement 4/Instacart Basket Analysis'"
   ]
  },
  {
   "cell_type": "code",
   "execution_count": 3,
   "id": "651970ba-f65c-49f3-a863-9755637e4a1d",
   "metadata": {},
   "outputs": [],
   "source": [
    "df = pd.read_pickle(os.path.join(pathD))"
   ]
  },
  {
   "cell_type": "code",
   "execution_count": 4,
   "id": "6e02a7b5-0bff-4157-ac6e-7208f317e36b",
   "metadata": {},
   "outputs": [],
   "source": [
    "df_cust = pd.read_pickle(os.path.join(pathC))"
   ]
  },
  {
   "cell_type": "markdown",
   "id": "4d580751-c13f-4515-b740-4d27e9067ba7",
   "metadata": {},
   "source": [
    "# Merging Data"
   ]
  },
  {
   "cell_type": "code",
   "execution_count": 7,
   "id": "862fbb11-9c08-4a02-9536-9e0c4309e0ce",
   "metadata": {},
   "outputs": [
    {
     "data": {
      "text/plain": [
       "Index(['order_id', 'user_id', 'order_number', 'orders_day_of_week',\n",
       "       'order_hour_of_day', 'orders_days_since_order', 'product_id',\n",
       "       'add_to_cart_order', 'reordered', 'product_name', 'aisle_id',\n",
       "       'department_id', 'prices', '_merge', 'max_order', 'loyalty_flag',\n",
       "       'Average_order', 'Spending_flag', 'median_order', 'Frequency_flag'],\n",
       "      dtype='object')"
      ]
     },
     "execution_count": 7,
     "metadata": {},
     "output_type": "execute_result"
    }
   ],
   "source": [
    "df.columns"
   ]
  },
  {
   "cell_type": "code",
   "execution_count": null,
   "id": "4b047f16-7145-4222-9b0b-3e5f9e163a5b",
   "metadata": {},
   "outputs": [],
   "source": [
    "# ran into the same problem, so I dropped the _merged column"
   ]
  },
  {
   "cell_type": "code",
   "execution_count": 8,
   "id": "33c766f5-fef7-43b0-9dcf-8a2d7ead8534",
   "metadata": {},
   "outputs": [],
   "source": [
    "df = df.drop(columns = ['_merge'])"
   ]
  },
  {
   "cell_type": "code",
   "execution_count": 9,
   "id": "20f1615e-fe00-4c64-b2ce-de36f85ea5c0",
   "metadata": {},
   "outputs": [],
   "source": [
    "df_cust_A = df.merge(df_cust, on = ['user_id'], indicator = True)"
   ]
  },
  {
   "cell_type": "code",
   "execution_count": 12,
   "id": "ea49d229-c555-4ff3-bbde-6bcf484b0384",
   "metadata": {},
   "outputs": [
    {
     "data": {
      "text/plain": [
       "Index(['order_id', 'user_id', 'order_number', 'orders_day_of_week',\n",
       "       'order_hour_of_day', 'orders_days_since_order', 'product_id',\n",
       "       'add_to_cart_order', 'reordered', 'product_name', 'aisle_id',\n",
       "       'department_id', 'prices', 'max_order', 'loyalty_flag', 'Average_order',\n",
       "       'Spending_flag', 'median_order', 'Frequency_flag', 'First Name',\n",
       "       'Last Name', 'Gender', 'State', 'Age', 'date_joined', 'Dependants',\n",
       "       'Marital_Status', 'income', '_merge'],\n",
       "      dtype='object')"
      ]
     },
     "execution_count": 12,
     "metadata": {},
     "output_type": "execute_result"
    }
   ],
   "source": [
    "df_cust_A.columns"
   ]
  },
  {
   "cell_type": "code",
   "execution_count": 15,
   "id": "06ef0cbc-1f03-458f-bc75-9f0da66855f7",
   "metadata": {},
   "outputs": [],
   "source": [
    "df_cust_A.to_pickle(os.path.join(path_orig, '02 Data','Prepared Data', 'df_cust_Merge_4.9.pkl'))"
   ]
  },
  {
   "cell_type": "code",
   "execution_count": null,
   "id": "b76b275a-d1ac-4283-9672-673c9861c492",
   "metadata": {},
   "outputs": [],
   "source": []
  }
 ],
 "metadata": {
  "kernelspec": {
   "display_name": "Python 3 (ipykernel)",
   "language": "python",
   "name": "python3"
  },
  "language_info": {
   "codemirror_mode": {
    "name": "ipython",
    "version": 3
   },
   "file_extension": ".py",
   "mimetype": "text/x-python",
   "name": "python",
   "nbconvert_exporter": "python",
   "pygments_lexer": "ipython3",
   "version": "3.11.7"
  }
 },
 "nbformat": 4,
 "nbformat_minor": 5
}
