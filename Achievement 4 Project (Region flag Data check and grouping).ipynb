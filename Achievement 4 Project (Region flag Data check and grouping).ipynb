{
 "cells": [
  {
   "cell_type": "markdown",
   "id": "f323864e-1210-4a5f-a022-637fb03ddd1a",
   "metadata": {},
   "source": [
    "# Achievement 4 Project (Region flag Data check and grouping)"
   ]
  },
  {
   "cell_type": "code",
   "execution_count": 1,
   "id": "8cb57ab7-21d3-476c-b02a-a02f37fff319",
   "metadata": {},
   "outputs": [],
   "source": [
    "import pandas as pd\n",
    "import numpy as np\n",
    "import os\n",
    "import matplotlib.pyplot as plt\n",
    "import seaborn as sns\n",
    "import scipy\n"
   ]
  },
  {
   "cell_type": "code",
   "execution_count": 2,
   "id": "86adfec1-d44a-46a1-8e67-b5b8ed8c7476",
   "metadata": {},
   "outputs": [],
   "source": [
    "path = r'Desktop/CF/Achievement 4/Instacart Basket Analysis/02 Data/Prepared Data/df_410_1.pkl'"
   ]
  },
  {
   "cell_type": "code",
   "execution_count": 3,
   "id": "1f23a5d1-17e1-48d8-bde3-465650d87134",
   "metadata": {},
   "outputs": [],
   "source": [
    "path_orig =r'Desktop/CF/Achievement 4/Instacart Basket Analysis'"
   ]
  },
  {
   "cell_type": "code",
   "execution_count": 4,
   "id": "74a90541-b71f-4242-9a5b-624b6071a674",
   "metadata": {},
   "outputs": [],
   "source": [
    "df= pd.read_pickle(os.path.join(path))"
   ]
  },
  {
   "cell_type": "code",
   "execution_count": 5,
   "id": "fc5031ee-4541-4e27-9c25-d7b6be01220b",
   "metadata": {},
   "outputs": [
    {
     "data": {
      "text/plain": [
       "Index(['order_id', 'user_id', 'order_number', 'orders_day_of_week',\n",
       "       'order_hour_of_day', 'orders_days_since_order', 'product_id',\n",
       "       'add_to_cart_order', 'reordered', 'product_name', 'aisle_id',\n",
       "       'department_id', 'prices', 'max_order', 'loyalty_flag', 'Average_order',\n",
       "       'Spending_flag', 'median_order', 'Frequency_flag', 'First Name',\n",
       "       'Last Name', 'Gender', 'State', 'Age', 'date_joined', 'Dependants',\n",
       "       'Marital_Status', 'income', '_merge', 'Region_flag'],\n",
       "      dtype='object')"
      ]
     },
     "execution_count": 5,
     "metadata": {},
     "output_type": "execute_result"
    }
   ],
   "source": [
    "df.columns"
   ]
  },
  {
   "cell_type": "code",
   "execution_count": 6,
   "id": "b77e44c8-8fc0-4fa3-851f-2e8cd1f97ea8",
   "metadata": {},
   "outputs": [
    {
     "data": {
      "text/plain": [
       "<pandas.core.groupby.generic.SeriesGroupBy object at 0x16d8dd350>"
      ]
     },
     "execution_count": 6,
     "metadata": {},
     "output_type": "execute_result"
    }
   ],
   "source": [
    "df.groupby('Region_flag')['Spending_flag']"
   ]
  },
  {
   "cell_type": "code",
   "execution_count": 15,
   "id": "5766635e-7ab5-4695-890a-f311f0b7194a",
   "metadata": {},
   "outputs": [
    {
     "data": {
      "text/html": [
       "<div>\n",
       "<style scoped>\n",
       "    .dataframe tbody tr th:only-of-type {\n",
       "        vertical-align: middle;\n",
       "    }\n",
       "\n",
       "    .dataframe tbody tr th {\n",
       "        vertical-align: top;\n",
       "    }\n",
       "\n",
       "    .dataframe thead tr th {\n",
       "        text-align: left;\n",
       "    }\n",
       "\n",
       "    .dataframe thead tr:last-of-type th {\n",
       "        text-align: right;\n",
       "    }\n",
       "</style>\n",
       "<table border=\"1\" class=\"dataframe\">\n",
       "  <thead>\n",
       "    <tr>\n",
       "      <th></th>\n",
       "      <th>prices</th>\n",
       "    </tr>\n",
       "    <tr>\n",
       "      <th></th>\n",
       "      <th>sum</th>\n",
       "    </tr>\n",
       "    <tr>\n",
       "      <th>Region_flag</th>\n",
       "      <th></th>\n",
       "    </tr>\n",
       "  </thead>\n",
       "  <tbody>\n",
       "    <tr>\n",
       "      <th>Midwest</th>\n",
       "      <td>96688105.8</td>\n",
       "    </tr>\n",
       "    <tr>\n",
       "      <th>Northwest</th>\n",
       "      <td>66199058.8</td>\n",
       "    </tr>\n",
       "    <tr>\n",
       "      <th>South</th>\n",
       "      <td>131739354.6</td>\n",
       "    </tr>\n",
       "    <tr>\n",
       "      <th>West</th>\n",
       "      <td>93972442.8</td>\n",
       "    </tr>\n",
       "  </tbody>\n",
       "</table>\n",
       "</div>"
      ],
      "text/plain": [
       "                  prices\n",
       "                     sum\n",
       "Region_flag             \n",
       "Midwest       96688105.8\n",
       "Northwest     66199058.8\n",
       "South        131739354.6\n",
       "West          93972442.8"
      ]
     },
     "execution_count": 15,
     "metadata": {},
     "output_type": "execute_result"
    }
   ],
   "source": [
    "df.groupby('Region_flag').agg({'prices': ['sum']})"
   ]
  },
  {
   "cell_type": "code",
   "execution_count": 16,
   "id": "78bd6da0-beaa-4ad8-98c1-f58ae7411390",
   "metadata": {},
   "outputs": [
    {
     "data": {
      "text/html": [
       "<div>\n",
       "<style scoped>\n",
       "    .dataframe tbody tr th:only-of-type {\n",
       "        vertical-align: middle;\n",
       "    }\n",
       "\n",
       "    .dataframe tbody tr th {\n",
       "        vertical-align: top;\n",
       "    }\n",
       "\n",
       "    .dataframe thead tr th {\n",
       "        text-align: left;\n",
       "    }\n",
       "\n",
       "    .dataframe thead tr:last-of-type th {\n",
       "        text-align: right;\n",
       "    }\n",
       "</style>\n",
       "<table border=\"1\" class=\"dataframe\">\n",
       "  <thead>\n",
       "    <tr>\n",
       "      <th></th>\n",
       "      <th>order_id</th>\n",
       "    </tr>\n",
       "    <tr>\n",
       "      <th></th>\n",
       "      <th>count</th>\n",
       "    </tr>\n",
       "    <tr>\n",
       "      <th>Region_flag</th>\n",
       "      <th></th>\n",
       "    </tr>\n",
       "  </thead>\n",
       "  <tbody>\n",
       "    <tr>\n",
       "      <th>Midwest</th>\n",
       "      <td>7603810</td>\n",
       "    </tr>\n",
       "    <tr>\n",
       "      <th>Northwest</th>\n",
       "      <td>5728347</td>\n",
       "    </tr>\n",
       "    <tr>\n",
       "      <th>South</th>\n",
       "      <td>10801610</td>\n",
       "    </tr>\n",
       "    <tr>\n",
       "      <th>West</th>\n",
       "      <td>8300445</td>\n",
       "    </tr>\n",
       "  </tbody>\n",
       "</table>\n",
       "</div>"
      ],
      "text/plain": [
       "             order_id\n",
       "                count\n",
       "Region_flag          \n",
       "Midwest       7603810\n",
       "Northwest     5728347\n",
       "South        10801610\n",
       "West          8300445"
      ]
     },
     "execution_count": 16,
     "metadata": {},
     "output_type": "execute_result"
    }
   ],
   "source": [
    "df.groupby('Region_flag').agg({'order_id': ['count']})"
   ]
  },
  {
   "cell_type": "code",
   "execution_count": 19,
   "id": "b48d6c74-1b70-464e-8471-7e75b340ca56",
   "metadata": {},
   "outputs": [],
   "source": [
    "df_crosstab = pd.crosstab(df['Region_flag'], df['Spending_flag'], dropna = False)"
   ]
  },
  {
   "cell_type": "code",
   "execution_count": 20,
   "id": "34717fc7-f4e3-4c5c-9435-27df840e6b80",
   "metadata": {},
   "outputs": [
    {
     "data": {
      "text/plain": [
       "<bound method DataFrame.value_counts of Spending_flag  High Spender  Low Spender\n",
       "Region_flag                             \n",
       "Midwest              156129      7447681\n",
       "Northwest            108343      5620004\n",
       "South                210182     10591428\n",
       "West                 160807      8139638>"
      ]
     },
     "execution_count": 20,
     "metadata": {},
     "output_type": "execute_result"
    }
   ],
   "source": [
    "df_crosstab.value_counts"
   ]
  },
  {
   "cell_type": "code",
   "execution_count": 24,
   "id": "334e93eb-bf4c-426a-a5e6-18c6161016da",
   "metadata": {},
   "outputs": [
    {
     "data": {
      "text/plain": [
       "Frequency_flag\n",
       "Frequent customer        22814871\n",
       "Regular customer          6929354\n",
       "Non-frequent customer     2689987\n",
       "Name: count, dtype: int64"
      ]
     },
     "execution_count": 24,
     "metadata": {},
     "output_type": "execute_result"
    }
   ],
   "source": [
    "df['Frequency_flag'].value_counts()"
   ]
  },
  {
   "cell_type": "code",
   "execution_count": 26,
   "id": "455e4eb2-70e6-4d62-abb3-1d2e18e90c56",
   "metadata": {},
   "outputs": [
    {
     "data": {
      "text/plain": [
       "0                Regular customer\n",
       "1                Regular customer\n",
       "2                Regular customer\n",
       "3                Regular customer\n",
       "4                Regular customer\n",
       "                    ...          \n",
       "32434207        Frequent customer\n",
       "32434208    Non-frequent customer\n",
       "32434209    Non-frequent customer\n",
       "32434210    Non-frequent customer\n",
       "32434211    Non-frequent customer\n",
       "Name: Frequency_flag, Length: 32434212, dtype: object"
      ]
     },
     "execution_count": 26,
     "metadata": {},
     "output_type": "execute_result"
    }
   ],
   "source": [
    "df['Frequency_flag']"
   ]
  },
  {
   "cell_type": "code",
   "execution_count": 5,
   "id": "b3c5a2a8-0fa7-473d-b785-3422ce9226b2",
   "metadata": {},
   "outputs": [
    {
     "name": "stderr",
     "output_type": "stream",
     "text": [
      "/var/folders/ys/c00h737n045dn1bcd8vmxlrc0000gn/T/ipykernel_8793/3085125372.py:1: FutureWarning: The provided callable <function max at 0x10d2b58a0> is currently using SeriesGroupBy.max. In a future version of pandas, the provided callable will be used directly. To keep current behavior pass the string \"max\" instead.\n",
      "  df['Activity'] = df.groupby(['user_id'])['order_number'].transform(np.max)\n"
     ]
    }
   ],
   "source": [
    "df['Activity'] = df.groupby(['user_id'])['order_number'].transform(np.max)"
   ]
  },
  {
   "cell_type": "code",
   "execution_count": 33,
   "id": "61a40aa4-5478-4550-b178-39a27e255a49",
   "metadata": {},
   "outputs": [
    {
     "data": {
      "text/html": [
       "<div>\n",
       "<style scoped>\n",
       "    .dataframe tbody tr th:only-of-type {\n",
       "        vertical-align: middle;\n",
       "    }\n",
       "\n",
       "    .dataframe tbody tr th {\n",
       "        vertical-align: top;\n",
       "    }\n",
       "\n",
       "    .dataframe thead th {\n",
       "        text-align: right;\n",
       "    }\n",
       "</style>\n",
       "<table border=\"1\" class=\"dataframe\">\n",
       "  <thead>\n",
       "    <tr style=\"text-align: right;\">\n",
       "      <th></th>\n",
       "      <th>order_id</th>\n",
       "      <th>user_id</th>\n",
       "      <th>order_number</th>\n",
       "      <th>orders_day_of_week</th>\n",
       "      <th>order_hour_of_day</th>\n",
       "      <th>orders_days_since_order</th>\n",
       "      <th>product_id</th>\n",
       "      <th>add_to_cart_order</th>\n",
       "      <th>reordered</th>\n",
       "      <th>product_name</th>\n",
       "      <th>...</th>\n",
       "      <th>Last Name</th>\n",
       "      <th>Gender</th>\n",
       "      <th>State</th>\n",
       "      <th>Age</th>\n",
       "      <th>date_joined</th>\n",
       "      <th>Dependants</th>\n",
       "      <th>Marital_Status</th>\n",
       "      <th>income</th>\n",
       "      <th>Region_flag</th>\n",
       "      <th>Activity</th>\n",
       "    </tr>\n",
       "  </thead>\n",
       "  <tbody>\n",
       "    <tr>\n",
       "      <th>0</th>\n",
       "      <td>2539329</td>\n",
       "      <td>1</td>\n",
       "      <td>1</td>\n",
       "      <td>2</td>\n",
       "      <td>8</td>\n",
       "      <td>0.0</td>\n",
       "      <td>196</td>\n",
       "      <td>1</td>\n",
       "      <td>0</td>\n",
       "      <td>Soda</td>\n",
       "      <td>...</td>\n",
       "      <td>Nguyen</td>\n",
       "      <td>Female</td>\n",
       "      <td>Alabama</td>\n",
       "      <td>31</td>\n",
       "      <td>2/17/2019</td>\n",
       "      <td>3</td>\n",
       "      <td>married</td>\n",
       "      <td>40423</td>\n",
       "      <td>South</td>\n",
       "      <td>10</td>\n",
       "    </tr>\n",
       "    <tr>\n",
       "      <th>1</th>\n",
       "      <td>2398795</td>\n",
       "      <td>1</td>\n",
       "      <td>2</td>\n",
       "      <td>3</td>\n",
       "      <td>7</td>\n",
       "      <td>15.0</td>\n",
       "      <td>196</td>\n",
       "      <td>1</td>\n",
       "      <td>1</td>\n",
       "      <td>Soda</td>\n",
       "      <td>...</td>\n",
       "      <td>Nguyen</td>\n",
       "      <td>Female</td>\n",
       "      <td>Alabama</td>\n",
       "      <td>31</td>\n",
       "      <td>2/17/2019</td>\n",
       "      <td>3</td>\n",
       "      <td>married</td>\n",
       "      <td>40423</td>\n",
       "      <td>South</td>\n",
       "      <td>10</td>\n",
       "    </tr>\n",
       "    <tr>\n",
       "      <th>2</th>\n",
       "      <td>473747</td>\n",
       "      <td>1</td>\n",
       "      <td>3</td>\n",
       "      <td>3</td>\n",
       "      <td>12</td>\n",
       "      <td>21.0</td>\n",
       "      <td>196</td>\n",
       "      <td>1</td>\n",
       "      <td>1</td>\n",
       "      <td>Soda</td>\n",
       "      <td>...</td>\n",
       "      <td>Nguyen</td>\n",
       "      <td>Female</td>\n",
       "      <td>Alabama</td>\n",
       "      <td>31</td>\n",
       "      <td>2/17/2019</td>\n",
       "      <td>3</td>\n",
       "      <td>married</td>\n",
       "      <td>40423</td>\n",
       "      <td>South</td>\n",
       "      <td>10</td>\n",
       "    </tr>\n",
       "    <tr>\n",
       "      <th>3</th>\n",
       "      <td>2254736</td>\n",
       "      <td>1</td>\n",
       "      <td>4</td>\n",
       "      <td>4</td>\n",
       "      <td>7</td>\n",
       "      <td>29.0</td>\n",
       "      <td>196</td>\n",
       "      <td>1</td>\n",
       "      <td>1</td>\n",
       "      <td>Soda</td>\n",
       "      <td>...</td>\n",
       "      <td>Nguyen</td>\n",
       "      <td>Female</td>\n",
       "      <td>Alabama</td>\n",
       "      <td>31</td>\n",
       "      <td>2/17/2019</td>\n",
       "      <td>3</td>\n",
       "      <td>married</td>\n",
       "      <td>40423</td>\n",
       "      <td>South</td>\n",
       "      <td>10</td>\n",
       "    </tr>\n",
       "    <tr>\n",
       "      <th>4</th>\n",
       "      <td>431534</td>\n",
       "      <td>1</td>\n",
       "      <td>5</td>\n",
       "      <td>4</td>\n",
       "      <td>15</td>\n",
       "      <td>28.0</td>\n",
       "      <td>196</td>\n",
       "      <td>1</td>\n",
       "      <td>1</td>\n",
       "      <td>Soda</td>\n",
       "      <td>...</td>\n",
       "      <td>Nguyen</td>\n",
       "      <td>Female</td>\n",
       "      <td>Alabama</td>\n",
       "      <td>31</td>\n",
       "      <td>2/17/2019</td>\n",
       "      <td>3</td>\n",
       "      <td>married</td>\n",
       "      <td>40423</td>\n",
       "      <td>South</td>\n",
       "      <td>10</td>\n",
       "    </tr>\n",
       "  </tbody>\n",
       "</table>\n",
       "<p>5 rows × 30 columns</p>\n",
       "</div>"
      ],
      "text/plain": [
       "   order_id  user_id  order_number  orders_day_of_week  order_hour_of_day  \\\n",
       "0   2539329        1             1                   2                  8   \n",
       "1   2398795        1             2                   3                  7   \n",
       "2    473747        1             3                   3                 12   \n",
       "3   2254736        1             4                   4                  7   \n",
       "4    431534        1             5                   4                 15   \n",
       "\n",
       "   orders_days_since_order  product_id  add_to_cart_order  reordered  \\\n",
       "0                      0.0         196                  1          0   \n",
       "1                     15.0         196                  1          1   \n",
       "2                     21.0         196                  1          1   \n",
       "3                     29.0         196                  1          1   \n",
       "4                     28.0         196                  1          1   \n",
       "\n",
       "  product_name  ...  Last Name  Gender    State  Age date_joined  Dependants  \\\n",
       "0         Soda  ...     Nguyen  Female  Alabama   31   2/17/2019           3   \n",
       "1         Soda  ...     Nguyen  Female  Alabama   31   2/17/2019           3   \n",
       "2         Soda  ...     Nguyen  Female  Alabama   31   2/17/2019           3   \n",
       "3         Soda  ...     Nguyen  Female  Alabama   31   2/17/2019           3   \n",
       "4         Soda  ...     Nguyen  Female  Alabama   31   2/17/2019           3   \n",
       "\n",
       "  Marital_Status  income Region_flag Activity  \n",
       "0        married   40423       South       10  \n",
       "1        married   40423       South       10  \n",
       "2        married   40423       South       10  \n",
       "3        married   40423       South       10  \n",
       "4        married   40423       South       10  \n",
       "\n",
       "[5 rows x 30 columns]"
      ]
     },
     "execution_count": 33,
     "metadata": {},
     "output_type": "execute_result"
    }
   ],
   "source": [
    "df.head()"
   ]
  },
  {
   "cell_type": "code",
   "execution_count": 32,
   "id": "465a72a0-6708-498f-94dc-48bb41ead5a6",
   "metadata": {},
   "outputs": [],
   "source": [
    "df= df.drop(columns = ['_merge','low activity'])"
   ]
  },
  {
   "cell_type": "code",
   "execution_count": 37,
   "id": "815fb55a-e3c5-4f94-b2f6-5a3de5490fad",
   "metadata": {},
   "outputs": [
    {
     "data": {
      "text/plain": [
       "count    3.243421e+07\n",
       "mean     3.305217e+01\n",
       "std      2.515449e+01\n",
       "min      3.000000e+00\n",
       "25%      1.300000e+01\n",
       "50%      2.600000e+01\n",
       "75%      4.700000e+01\n",
       "max      9.900000e+01\n",
       "Name: Activity, dtype: float64"
      ]
     },
     "execution_count": 37,
     "metadata": {},
     "output_type": "execute_result"
    }
   ],
   "source": [
    "df['Activity']"
   ]
  },
  {
   "cell_type": "code",
   "execution_count": 6,
   "id": "d831d499-87a5-4381-a46d-3fc27afe246c",
   "metadata": {},
   "outputs": [],
   "source": [
    "df_high = df[df['Activity']> 5]"
   ]
  },
  {
   "cell_type": "code",
   "execution_count": 9,
   "id": "fbe80fff-9770-4b5b-b618-a228ac608ffb",
   "metadata": {},
   "outputs": [
    {
     "data": {
      "text/plain": [
       "32434203    26\n",
       "32434204    26\n",
       "32434205    26\n",
       "32434206    26\n",
       "32434207    26\n",
       "Name: Activity, dtype: int64"
      ]
     },
     "execution_count": 9,
     "metadata": {},
     "output_type": "execute_result"
    }
   ],
   "source": []
  },
  {
   "cell_type": "code",
   "execution_count": 10,
   "id": "db80b3f1-b35e-4231-ae7e-d675a82bc203",
   "metadata": {},
   "outputs": [],
   "source": [
    "df_high.to_pickle(os.path.join(path_orig, '02 Data','Prepared Data', '4.10_df_over_5'))"
   ]
  },
  {
   "cell_type": "code",
   "execution_count": null,
   "id": "2bc20e61-b21f-4b9d-922f-a168783f19e8",
   "metadata": {},
   "outputs": [],
   "source": []
  }
 ],
 "metadata": {
  "kernelspec": {
   "display_name": "Python 3 (ipykernel)",
   "language": "python",
   "name": "python3"
  },
  "language_info": {
   "codemirror_mode": {
    "name": "ipython",
    "version": 3
   },
   "file_extension": ".py",
   "mimetype": "text/x-python",
   "name": "python",
   "nbconvert_exporter": "python",
   "pygments_lexer": "ipython3",
   "version": "3.11.7"
  }
 },
 "nbformat": 4,
 "nbformat_minor": 5
}
