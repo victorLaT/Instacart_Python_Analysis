{
 "cells": [
  {
   "cell_type": "markdown",
   "id": "4ed787b7-a531-4e88-b1ac-34f438adbf51",
   "metadata": {},
   "source": [
    "# This is my Python introductory lesson aimed to practise the exercises from chapter 4.2"
   ]
  },
  {
   "cell_type": "code",
   "execution_count": 6,
   "id": "a0a3a77d-0119-4075-856f-b7f1d77bbca1",
   "metadata": {},
   "outputs": [],
   "source": [
    "#Import Libaries\n",
    "import pandas as pd\n",
    "import numpy as np\n",
    "import os"
   ]
  },
  {
   "cell_type": "code",
   "execution_count": 7,
   "id": "de7306a8-e554-4185-ab87-2cc9801548a2",
   "metadata": {},
   "outputs": [],
   "source": [
    "x=2"
   ]
  },
  {
   "cell_type": "code",
   "execution_count": 8,
   "id": "bb74bf15-07a3-4a94-8b98-6989fde03640",
   "metadata": {},
   "outputs": [
    {
     "data": {
      "text/plain": [
       "2"
      ]
     },
     "execution_count": 8,
     "metadata": {},
     "output_type": "execute_result"
    }
   ],
   "source": [
    "x"
   ]
  },
  {
   "cell_type": "code",
   "execution_count": 9,
   "id": "1f13ad30-9d8d-4e72-82a9-6bbbe1403226",
   "metadata": {},
   "outputs": [
    {
     "data": {
      "text/plain": [
       "int"
      ]
     },
     "execution_count": 9,
     "metadata": {},
     "output_type": "execute_result"
    }
   ],
   "source": [
    "type(x)"
   ]
  },
  {
   "cell_type": "code",
   "execution_count": 10,
   "id": "7be87abb-a049-443d-9af8-be13522029f7",
   "metadata": {},
   "outputs": [],
   "source": [
    "#working with Python Data Types"
   ]
  },
  {
   "cell_type": "code",
   "execution_count": 13,
   "id": "2b520325-18cb-4734-9618-382e1922fd26",
   "metadata": {},
   "outputs": [],
   "source": [
    "x=65"
   ]
  },
  {
   "cell_type": "code",
   "execution_count": 19,
   "id": "e64520ee-19eb-4abf-bcac-78c945ac6ab2",
   "metadata": {},
   "outputs": [],
   "source": [
    "y=35"
   ]
  },
  {
   "cell_type": "code",
   "execution_count": 20,
   "id": "54f1cb35-6887-4160-9274-178c5ef6d7eb",
   "metadata": {},
   "outputs": [
    {
     "data": {
      "text/plain": [
       "100"
      ]
     },
     "execution_count": 20,
     "metadata": {},
     "output_type": "execute_result"
    }
   ],
   "source": [
    "x+y"
   ]
  },
  {
   "cell_type": "code",
   "execution_count": 21,
   "id": "1751c312-5953-4390-bfc1-78f52bd5bbef",
   "metadata": {},
   "outputs": [],
   "source": [
    "b=165"
   ]
  },
  {
   "cell_type": "code",
   "execution_count": 22,
   "id": "9714bf0e-5534-427e-ad79-f05e86277629",
   "metadata": {},
   "outputs": [],
   "source": [
    "c=-65"
   ]
  },
  {
   "cell_type": "code",
   "execution_count": 23,
   "id": "34bee54c-016d-405e-854c-c739d48fc32c",
   "metadata": {},
   "outputs": [
    {
     "data": {
      "text/plain": [
       "100"
      ]
     },
     "execution_count": 23,
     "metadata": {},
     "output_type": "execute_result"
    }
   ],
   "source": [
    "b+c"
   ]
  },
  {
   "cell_type": "code",
   "execution_count": 24,
   "id": "991842a3-8eab-47fd-8600-211670dfc13b",
   "metadata": {},
   "outputs": [],
   "source": [
    "f=200"
   ]
  },
  {
   "cell_type": "code",
   "execution_count": 25,
   "id": "cb95da89-e4b0-4948-8537-d1bae0b6003c",
   "metadata": {},
   "outputs": [],
   "source": [
    "w=100"
   ]
  },
  {
   "cell_type": "code",
   "execution_count": 26,
   "id": "5adc40cf-a7e6-4777-aafe-41f185cdb249",
   "metadata": {},
   "outputs": [
    {
     "data": {
      "text/plain": [
       "100"
      ]
     },
     "execution_count": 26,
     "metadata": {},
     "output_type": "execute_result"
    }
   ],
   "source": [
    "f-w"
   ]
  },
  {
   "cell_type": "code",
   "execution_count": 27,
   "id": "23a90750-795e-4f2c-aeae-e9563d19eba8",
   "metadata": {},
   "outputs": [],
   "source": [
    "q=1.5"
   ]
  },
  {
   "cell_type": "code",
   "execution_count": 28,
   "id": "58b21cb9-1d27-47fe-9a3a-ec1a2511f71c",
   "metadata": {},
   "outputs": [],
   "source": [
    "a=2.4"
   ]
  },
  {
   "cell_type": "code",
   "execution_count": 29,
   "id": "894f6ea0-52eb-4ab6-a374-6caf3bf86895",
   "metadata": {},
   "outputs": [
    {
     "data": {
      "text/plain": [
       "0.625"
      ]
     },
     "execution_count": 29,
     "metadata": {},
     "output_type": "execute_result"
    }
   ],
   "source": [
    "q/a"
   ]
  },
  {
   "cell_type": "code",
   "execution_count": 30,
   "id": "319935c7-b1e2-46a0-86dc-15373993f001",
   "metadata": {},
   "outputs": [],
   "source": [
    "a='d'"
   ]
  },
  {
   "cell_type": "code",
   "execution_count": 31,
   "id": "56edfc0b-4b83-4e96-b178-2095a138a149",
   "metadata": {},
   "outputs": [],
   "source": [
    "b='o'"
   ]
  },
  {
   "cell_type": "code",
   "execution_count": 32,
   "id": "97cc2c3d-4012-4b81-a0ef-b60517ad413e",
   "metadata": {},
   "outputs": [],
   "source": [
    "c='g'"
   ]
  },
  {
   "cell_type": "code",
   "execution_count": 34,
   "id": "bd62a32f-2948-4efd-a2ba-f7c69b912ac7",
   "metadata": {},
   "outputs": [
    {
     "name": "stdout",
     "output_type": "stream",
     "text": [
      "dog\n"
     ]
    }
   ],
   "source": [
    "print(a+b+c)"
   ]
  },
  {
   "cell_type": "code",
   "execution_count": 35,
   "id": "fd70feff-5167-4b77-85b2-78a9a3bf3b33",
   "metadata": {},
   "outputs": [],
   "source": [
    "a= 'Curiousity killed the cat'"
   ]
  },
  {
   "cell_type": "code",
   "execution_count": 42,
   "id": "975c4c44-0e63-4f3c-9650-ec9a0c2fd094",
   "metadata": {},
   "outputs": [],
   "source": [
    "b=',but Satisfaction brought it back.'"
   ]
  },
  {
   "cell_type": "code",
   "execution_count": 43,
   "id": "2e00876f-fb73-4cc3-b846-21d6dfcfaca7",
   "metadata": {},
   "outputs": [
    {
     "name": "stdout",
     "output_type": "stream",
     "text": [
      "Curiousity killed the cat,but Satisfaction brought it back.\n"
     ]
    }
   ],
   "source": [
    "print(a+b)"
   ]
  },
  {
   "cell_type": "code",
   "execution_count": 45,
   "id": "b052a3eb-a076-46b2-82d5-989591bdf2b6",
   "metadata": {},
   "outputs": [
    {
     "name": "stdout",
     "output_type": "stream",
     "text": [
      "Curiousity killed the cat,but Satisfaction brought it back.Curiousity killed the cat,but Satisfaction brought it back.Curiousity killed the cat,but Satisfaction brought it back.Curiousity killed the cat,but Satisfaction brought it back.Curiousity killed the cat,but Satisfaction brought it back.Curiousity killed the cat,but Satisfaction brought it back.Curiousity killed the cat,but Satisfaction brought it back.Curiousity killed the cat,but Satisfaction brought it back.Curiousity killed the cat,but Satisfaction brought it back.Curiousity killed the cat,but Satisfaction brought it back.Curiousity killed the cat,but Satisfaction brought it back.Curiousity killed the cat,but Satisfaction brought it back.Curiousity killed the cat,but Satisfaction brought it back.Curiousity killed the cat,but Satisfaction brought it back.Curiousity killed the cat,but Satisfaction brought it back.Curiousity killed the cat,but Satisfaction brought it back.Curiousity killed the cat,but Satisfaction brought it back.Curiousity killed the cat,but Satisfaction brought it back.Curiousity killed the cat,but Satisfaction brought it back.Curiousity killed the cat,but Satisfaction brought it back.Curiousity killed the cat,but Satisfaction brought it back.Curiousity killed the cat,but Satisfaction brought it back.Curiousity killed the cat,but Satisfaction brought it back.Curiousity killed the cat,but Satisfaction brought it back.Curiousity killed the cat,but Satisfaction brought it back.Curiousity killed the cat,but Satisfaction brought it back.Curiousity killed the cat,but Satisfaction brought it back.Curiousity killed the cat,but Satisfaction brought it back.Curiousity killed the cat,but Satisfaction brought it back.Curiousity killed the cat,but Satisfaction brought it back.Curiousity killed the cat,but Satisfaction brought it back.Curiousity killed the cat,but Satisfaction brought it back.Curiousity killed the cat,but Satisfaction brought it back.Curiousity killed the cat,but Satisfaction brought it back.Curiousity killed the cat,but Satisfaction brought it back.Curiousity killed the cat,but Satisfaction brought it back.Curiousity killed the cat,but Satisfaction brought it back.Curiousity killed the cat,but Satisfaction brought it back.Curiousity killed the cat,but Satisfaction brought it back.Curiousity killed the cat,but Satisfaction brought it back.Curiousity killed the cat,but Satisfaction brought it back.Curiousity killed the cat,but Satisfaction brought it back.Curiousity killed the cat,but Satisfaction brought it back.Curiousity killed the cat,but Satisfaction brought it back.Curiousity killed the cat,but Satisfaction brought it back.Curiousity killed the cat,but Satisfaction brought it back.Curiousity killed the cat,but Satisfaction brought it back.Curiousity killed the cat,but Satisfaction brought it back.Curiousity killed the cat,but Satisfaction brought it back.Curiousity killed the cat,but Satisfaction brought it back.Curiousity killed the cat,but Satisfaction brought it back.Curiousity killed the cat,but Satisfaction brought it back.Curiousity killed the cat,but Satisfaction brought it back.Curiousity killed the cat,but Satisfaction brought it back.Curiousity killed the cat,but Satisfaction brought it back.Curiousity killed the cat,but Satisfaction brought it back.Curiousity killed the cat,but Satisfaction brought it back.Curiousity killed the cat,but Satisfaction brought it back.Curiousity killed the cat,but Satisfaction brought it back.Curiousity killed the cat,but Satisfaction brought it back.Curiousity killed the cat,but Satisfaction brought it back.Curiousity killed the cat,but Satisfaction brought it back.Curiousity killed the cat,but Satisfaction brought it back.Curiousity killed the cat,but Satisfaction brought it back.Curiousity killed the cat,but Satisfaction brought it back.Curiousity killed the cat,but Satisfaction brought it back.Curiousity killed the cat,but Satisfaction brought it back.Curiousity killed the cat,but Satisfaction brought it back.Curiousity killed the cat,but Satisfaction brought it back.Curiousity killed the cat,but Satisfaction brought it back.Curiousity killed the cat,but Satisfaction brought it back.Curiousity killed the cat,but Satisfaction brought it back.Curiousity killed the cat,but Satisfaction brought it back.Curiousity killed the cat,but Satisfaction brought it back.Curiousity killed the cat,but Satisfaction brought it back.Curiousity killed the cat,but Satisfaction brought it back.Curiousity killed the cat,but Satisfaction brought it back.Curiousity killed the cat,but Satisfaction brought it back.Curiousity killed the cat,but Satisfaction brought it back.Curiousity killed the cat,but Satisfaction brought it back.Curiousity killed the cat,but Satisfaction brought it back.Curiousity killed the cat,but Satisfaction brought it back.Curiousity killed the cat,but Satisfaction brought it back.Curiousity killed the cat,but Satisfaction brought it back.Curiousity killed the cat,but Satisfaction brought it back.Curiousity killed the cat,but Satisfaction brought it back.Curiousity killed the cat,but Satisfaction brought it back.Curiousity killed the cat,but Satisfaction brought it back.Curiousity killed the cat,but Satisfaction brought it back.Curiousity killed the cat,but Satisfaction brought it back.Curiousity killed the cat,but Satisfaction brought it back.Curiousity killed the cat,but Satisfaction brought it back.Curiousity killed the cat,but Satisfaction brought it back.Curiousity killed the cat,but Satisfaction brought it back.Curiousity killed the cat,but Satisfaction brought it back.Curiousity killed the cat,but Satisfaction brought it back.Curiousity killed the cat,but Satisfaction brought it back.Curiousity killed the cat,but Satisfaction brought it back.Curiousity killed the cat,but Satisfaction brought it back.Curiousity killed the cat,but Satisfaction brought it back.\n"
     ]
    }
   ],
   "source": [
    "print((a+b)*100)"
   ]
  },
  {
   "cell_type": "code",
   "execution_count": null,
   "id": "5e032fd4-127e-4ad8-906e-2e8c0ebf0c65",
   "metadata": {},
   "outputs": [],
   "source": []
  }
 ],
 "metadata": {
  "kernelspec": {
   "display_name": "Python 3 (ipykernel)",
   "language": "python",
   "name": "python3"
  },
  "language_info": {
   "codemirror_mode": {
    "name": "ipython",
    "version": 3
   },
   "file_extension": ".py",
   "mimetype": "text/x-python",
   "name": "python",
   "nbconvert_exporter": "python",
   "pygments_lexer": "ipython3",
   "version": "3.11.7"
  }
 },
 "nbformat": 4,
 "nbformat_minor": 5
}
